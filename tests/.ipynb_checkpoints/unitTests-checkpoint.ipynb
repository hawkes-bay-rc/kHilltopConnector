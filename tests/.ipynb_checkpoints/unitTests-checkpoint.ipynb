{
 "cells": [
  {
   "cell_type": "code",
   "execution_count": 166,
   "metadata": {},
   "outputs": [
    {
     "name": "stdout",
     "output_type": "stream",
     "text": [
      "The autoreload extension is already loaded. To reload it, use:\n",
      "  %reload_ext autoreload\n"
     ]
    }
   ],
   "source": [
    "from IPython.lib.deepreload import reload\n",
    "%load_ext autoreload\n",
    "%autoreload 2"
   ]
  },
  {
   "cell_type": "code",
   "execution_count": 167,
   "metadata": {},
   "outputs": [],
   "source": [
    "#please use this cell only if you have path issues and want to adjust accordingly\n",
    "#change Cell / Cell Type attribute from Markdown in the menu to code (see the drop down)\n",
    "\n",
    "#the tests are in a sub folder and need the root loacation\n",
    "import sys\n",
    "sys.path.insert(1, '../src/')"
   ]
  },
  {
   "cell_type": "code",
   "execution_count": 197,
   "metadata": {},
   "outputs": [
    {
     "name": "stdout",
     "output_type": "stream",
     "text": [
      "The inititialisation takes quite sometime depending on the connection bandwidth\n",
      "kHilltopConnector object is ready\n"
     ]
    }
   ],
   "source": [
    "#call the module for it to prepare the datasets\n",
    "import kHilltopConnector as kHK\n",
    "kHTop = kHK.kHilltopConnector(apiUrl='https://data.hbrc.govt.nz/Envirodata/EMAR.hts')#,enableDebug=True)"
   ]
  },
  {
   "cell_type": "markdown",
   "metadata": {},
   "source": [
    "kHTop = kHK.kHilltopConnector(apiUrl='HBRC')"
   ]
  },
  {
   "cell_type": "code",
   "execution_count": 198,
   "metadata": {},
   "outputs": [
    {
     "name": "stdout",
     "output_type": "stream",
     "text": [
      "['clobberCache', 'debug', 'fetchData', 'measurementsList', 'selectMeasurement', 'selectSite', 'selectSiteLocation', 'selectSiteMeasurementEndTime', 'siteList']\n"
     ]
    }
   ],
   "source": [
    "#available methods and variables\n",
    "print([x for x in dir(kHTop) if '_' not in x ])"
   ]
  },
  {
   "cell_type": "code",
   "execution_count": 199,
   "metadata": {},
   "outputs": [
    {
     "name": "stdout",
     "output_type": "stream",
     "text": [
      "['Stage', 'Rainfall', 'Consecutive Dry Days', 'RainDayMonth', 'RainDays <10mm', 'RainDays >10mm', 'Rainfall Daily', 'Consecutive Dry Days [Rainfall Daily]', 'Stage [Gauging Results]', 'Flow [Gauging Results]', 'Area', 'Velocity [Gauging Results]', 'MaxDepth', 'Slope', 'Width', 'Radius', 'Perimeter', 'SedimentConc', 'Temperature', 'Stge Change', 'MethodVerts', 'VertsSamplePoints', 'Quality Code', 'Flow Difference', 'Stage Difference', 'Horizontal Angle', 'Airline Length', 'Airline Angle', 'Depth', 'Method Code', 'Revs', 'Time', 'Meter Slope', 'Meter Intercept', '[Hydrometric Sections]', 'Elevation Above Sea Level [Water Level]', 'Water Temperature', 'Air Temperature', 'Barometric Pressure', 'Average Humidity', 'Dissolved Oxygen (Saturated)', 'Water Temperature (D-Opto)', 'Rainfall [Event Rainfall]', 'Rainfall Periodic', 'Voltage', 'Rainomatic', 'Flow', 'Stage (backup)', 'Water Temperature (Tidbit)', 'Weekly Volume', 'Lysimeter 1', 'Lysimeter 2', 'Lysimeter 3', 'FlowM3S', 'Conductivity', 'pH', '[RL Section]', 'DO% pressure corrected', 'Dissolved Oxygen PPM', 'EMAR flow', 'Minimum Wind Gust', 'Average Air Temperature', 'Maximum Wind Speed', 'Average Wind Speed', 'Average Wind Direction', 'Maximum Wind Direction', 'PM10', 'PM10 (daily average)', 'Minimum Wind Direction', 'PM10 24 hour average', 'PM2.5', 'PM2.5 (daily average)', 'PM2.5 24 hour average', '[pH (Depth Profile)]', '[Water Temperature (Depth Profile)]', '[Specific Conductivity (Depth Profile)]', '[Dissolved Oxygen (Saturated) (Depth Profile)]', '[Dissolved Oxygen (Depth Profile)]', '[Turbidity FNU (Depth Profile)]', '[Total Suspended Solids (Depth Profile)]', '[Phycoerythrin RFU BGA-PE (Depth Profile)]', '[Phycoerythrin ug/L BGA-PE (Depth Profile)]', '[Chlorophyll a RFU (Depth Profile)]', '[Chlorophyll a ug/L (Depth Profile)]', '[Pressure mbars (Depth Profile)]', '[Vertical Position (Depth Profile)]', '[Battery Voltage (Depth Profile)]', '[Cable Power V (Depth Profile)]', '[Pressure mmHg (Depth Profile)]', '[Turbidity NTU (Depth Profile)]', 'Solar Radiation', 'Soil Moisture', 'Time Maximum Wind [Time Maximum Wind]', 'Soil Temperature 100mm', 'PET Hourly', 'PET Hourly Total', 'PET Daily', 'PET Hourly (Incremental)', 'PET Daily (Incremental)', 'Av Air Temp (10m)', 'Av Humidity (10m)', 'Soil Temperature 20cm', 'Soil Temperature 50cm', 'Soil Temperature 70cm', 'Soil Mositure 20cm', 'Soil Moisture 50cm', 'Soil Moisture 70cm', 'pH (Depth Profile)', '[Turbidity NTU 2 (Depth Profile)]', 'PM10 Daily', 'Dissolved Oxygen', 'Depth From Measuring Point [Manual Water Level]', 'HB Datum minus Depth From MP', 'Depth From Measuring Point', 'Volume Event', 'Total Pressure', 'Water Sensor Depth VM', 'Synthetic Barometric Pressure', 'Droughts', 'Comment [Droughts]', 'Overplot Value', 'Information', 'Volume', 'Minima', 'Rainfall Event', '1 Day Maxima', 'Temperature 0.5m', 'Temperature 5m', 'Temperature 10m', 'Temperature 15m', 'Sensor Pitch', 'Sensor Roll', 'Conductivity 0.5m', 'Conductivity 5m', 'Conductivity 15m', 'Chlorophyll-a 5m', 'Dissolved Oxygen (Sat) 5m', 'Dissolved Oxygen 5m', 'Salinity 0.5m', 'Salinity 5m', 'Turbidity 5m', 'Conductivity 10m', 'Salinity 10m', 'Salinity 15m', 'Current Speed 2m', 'Current Speed 10m', 'Current Direction 2m', 'Current Direction 10m', 'Current Direction 16m', 'Current Speed 16m', 'Temperature 16m', 'Conductivity 16m', 'Dissolved Oxygen (Sat) 16m', 'Dissolved Oxygen 16m', 'Salinity 16m', 'Dissolved Oxygen 15m', 'Carbon Monoxide', 'Sulphur Dioxide', 'Nitrogen Oxide', 'Nitrogen Dioxide', 'IPO Index', 'SOI Index', 'Ban MinFlo1_Days', 'Total Ban Days', 'Hydrometric Sections', 'Item2', 'Item3', 'Item4', 'Velocity Rating', 'Flow (Sontek)', 'Velocity Index', 'Velocity Rated', 'Water Level (Sontek)', 'Area (cross section)', 'Water Temperature (Sontek)', 'Velocity (Sontek mean)', 'Signal Noise Ratio', 'Turbidity (FNU)', 'Velocity [Velocity]', '[Conductivity (Depth Profile)]', '[Salinity (Depth Profile)]', '[ORP (Depth Profile)]', '[Phycocyanin RFU BGA-PC (Depth Profile)]', '[Phycocyanin ug/L BGA-PC (Depth Profile)]', '[Conductivity nLF (Depth Profile)]', '[Dissolved Oxygen % Local (Depth Profile)]', '[Total Dissolved Solids (Depth Profile)]', '[pH mV (Depth Profile)]', '[ORP raw mV (Depth Profile)]', '[Fault Code (Depth Profile)]', '[Pressure psi (Depth Profile)]', 'Turbidity', 'Humidity', 'Hail', 'Temperature 2m', 'Temperature 20m', 'Temperature 25m', 'Temperature 30m', 'Temperature 35m', 'Temperature 40m', 'Chlorophyll (RFU)', 'Phycocyanin (RFU)', 'Dissolved Oxygen Surface', 'Dissolved Oxygen Surface (Sat)', 'Dissolved Oxygen Deep', 'Dissolved Oxygen Deep (Sat)', 'Water Column Depth (Adjusted)', 'Water Column Depth (Raw)', 'Pressure Compensation Depth', 'Chlorophyll', 'Phycocyanin', 'Temperature 14m', 'Temperature 0.3m', 'Temperature 1m', 'Temperature 3.5m', 'Temperature 6.5m', 'Temperature 8m', 'Temperature 12m', 'Temperature 14.5m', 'Temperature 1.5m', 'Temperature 3m', 'Temperature 4m', 'Temperature 6m', 'Temperature 7.5m', 'Temperature 9m', 'Temperature 10.5m', '3hourminimum', 'WaterLevel_0sRemoved_VM', 'WaterTemperature_0sRemoved_VM', 'Conductivity 0sRemoved_VM', 'pH_0sRemoved_VM', 'Chlorophyll (RFU) 0sRemoved_VM', 'Chlorophyll (RFU) 3 hour minima', 'Phycocyanin (RFU) 0sRemoved_VM', 'Phycocyanin (RFU) 3 hour minima', 'Turbidity (FNU) 3 hour minima', 'Turbidity (FNU) 0sRemoved_VM', 'Turbidity (FNU)_DifferenceForQC', 'Number Of Bans On', 'Number Of Sites On Ban', 'Rainfall (1hrMax)', 'Correlative Flow', 'RL Section', 'Water Sensor Depth', 'Water Sensor Depth with Offset', 'Daily Mean Flow', 'Combined Flow', 'Flow + Actual Use', 'Naturalised Flow 2008', 'Naturalised Flow 1996', 'Rainfall (OTA2)', 'PM10 Daily Archived', 'PM2.5 Hourly', 'PM2.5 24hr Av VM', 'PM2.5 Hourly (daily average)', 'PM2.5 (daily average) [PM2.5 Hourly]', 'Potential Evapotranspiration', 'Rainfall (10mMax)', 'Rainfall (20mMax)', 'Rainfall (30mMax)', 'Rainfall (2hrMax)', 'Rainfall (6hrMax)', 'Rainfall (12hrMax)', 'Rainfall (48hrMax)', 'Rainfall (72hrMax)', 'Rainfall Hourly', 'Wind Direction', 'Wind Speed', 'Relative Humidity', 'Time of Maximum Wind Speed', 'Ban MinFlo2_Days', 'Total Ban Days [Ban MinFlo2_Days]', 'Ban MinFlo3_Days', 'Total Ban Days [Ban MinFlo3_Days]', 'Synthetic DMF', 'Naturalised DMF', 'Water Level2', 'Flow ponds', 'Item1Q', 'days below FRE3', 'Water Sensor Depth VM2', 'Total Pressure [Hobo PT]', 'Water Depth to Sensor VM', 'Soil Temperature', 'Soil Moisture 100cm', 'Velocity Left', 'Velocity Centre', 'Velocity Right', 'Error Code', 'Velocity Vertical', 'Dissolved Oxygen [Dissolved Oxygen (X)]', 'Flow Event', 'Merged Flow', 'DissolvedOxygen_NZSTlagapplied', 'Synthetic Flow', 'Plant on or Off', 'Item1R15 [Water Level]', 'Discharge', 'Lake Level', 'Spillage', 'Grass Temperature', 'Stage [Historic Auto Water Level]', 'Depth From Land Surface', 'Elevation Above Sea Level [Manual Water Level]', 'Depth From Land Surface [Recorder Water Level]', 'Elevation Above Sea Level [Recorder Water Level]', 'Depth From Old Measuring Point', 'Hawkes Bay Datum', 'Depth From Measuring Point [Puddle Manual Water Level]', 'Elevation Above Sea Level', 'Depth From Land Surface [Puddle Manual Water Level]', 'Stage [Historic Manual Water Level]', 'MergeLevel', 'WQ Sample', 'Water Temperature [Water Temperature (Discrete)]', 'Salinity', 'Stage [Automatic Water Level]', 'EMAR groundwater level', 'Meter Reading - Audit', 'Comment 1', 'Comment 2', 'Barometric Pressure of Sensor', 'Depth From Measuring Point [Recorder Water Level (PT)]', 'External S.G.', 'Recorder Time', 'Internal S.G.', 'Comment', 'Water Temperature Check', 'DO (Sat) Check Data', 'DO (Sat) Check Time', 'DO (Sat) Check Data Comment', 'Water Temperature (Tidbit) Check', 'External S.G [Backup Recorder]', 'Recorder Time [Backup Recorder]', 'Recorder Value [Backup Recorder]', 'Comment [Backup Recorder]', 'Conductivity Check', 'Check Gauge Total', 'Recorder Time [Rainfall]', 'Recorder Total', 'Comment [Rainfall]', 'Calibrated pH', 'Actual Date', 'Raw pH', 'External S.G', 'Recorder Time [Recorder Water Level]', 'Recorder Value', 'Comment [Recorder Water Level]', 'External S.G [Automatic Water Level]', 'Recorder Time [Automatic Water Level]', 'Recorder Value [Automatic Water Level]', 'Comment [Automatic Water Level]']\n"
     ]
    }
   ],
   "source": [
    "#measurement list available || only available when minimalist is not invoked at initialisation\n",
    "mList = kHTop.measurementsList\n",
    "print(mList)"
   ]
  },
  {
   "cell_type": "code",
   "execution_count": 209,
   "metadata": {},
   "outputs": [
    {
     "name": "stdout",
     "output_type": "stream",
     "text": [
      "Stage\n",
      "Stage\n"
     ]
    }
   ],
   "source": [
    "#set measurement of interest\n",
    "print(mList[0])\n",
    "kHTop.selectMeasurement = mList[0]\n",
    "print(kHTop.selectMeasurement)"
   ]
  },
  {
   "cell_type": "code",
   "execution_count": 210,
   "metadata": {},
   "outputs": [
    {
     "name": "stdout",
     "output_type": "stream",
     "text": [
      "['1021404', '1021444', '1021470', '1021471', '1021472', '1021473', '1021474', '1023149', '1123246', '1223131', '1223172', '1223173', '1223174', '1223183', '1323253', '1423224', '1423232', '20101', '20102', '201123148', '2023202', '20905', '211123148', '21202', '2123202', '21401', '21432', '21437', '21493', '21801', '21867', '21873', '21874', '221123148', '2223202', '22529', '22809', '22853', '22854', '22901', '23047', '23075', '23076', '23077', '23102', '23104', '23207', '23211', '23214', '2321401', '2321414', '2321415', '23218', '23223', '2323202', '23252', '23302', '23312', '23804', '2423202', '24304', '24309', '24329', '250017', '2724309', '6072008', '6072009', '6072017', '6161308', '6251320', '857009', '857019', '867059', '86991308', '86991309', '87751208', '87811402', '87811405', '87811408', '87811409', '87811417', '87841307', '87841308', '87841309', '87841317', '87911112', '87971402', '87971408', '87971409', '87971417', '92008', '96591102', '96591110', '96591116', '96591122', '96591123', '96670210', '9667025', '9667026', '9667027', '9667028', '9667029', '96681610', '96681616', '96681622', '96681623', '96891602', '96891608', '96891609', '96891617', '97001102', '97001108', '97001109', '97001117', 'Ahuriri Lagoon at Causeway', 'Aniwaniwa Stream at Aniwaniwa', 'Aropaoanui River at Aropaoanui', 'Artificial Recharge Race at Flume', 'Awahou Stream at Estella Orchard', 'Awanui Stream at Flume', 'Clive River D/S Karamu', 'Clive River at Hohepa', 'Clive River at Packhouse', 'Clive River at Tuckers', 'Cochranes Creek at Access Bridge', 'Esk River at Berry Road', 'Esk River at Waipunga Bridge', 'Glazebrook', 'Glazebrooks at Major Take', 'Hangaroa River at Doneraille Park', 'Hawea Stream off St Lawrence Road', 'Hopuruahine Stream at The Cascades', 'Huatokitoki Stream at Bush Road', 'Irongate Stream D/S Clarks Weir', 'Irongate Stream at Clarkes Weir', 'Kahahakuri Stream at Lindsay Road', 'Kahahakuri Stream at Ongaonga Rd Br.', 'Karamu Stream at Floodgates', 'Karamu Stream at Floodgates Channel 1', 'Karamu Stream at Floodgates Channel 2', 'Karamu Stream at Floodgates Channel 3', 'Karamu Stream at Floodgates Channel 4', 'Karewarewa Stream at Turamoe Road', 'Kiorerau at Lake Hatuma Control', 'Kopuawhara Stream at Railway Bridge', 'Lake Poukawa at Te Hauke', 'Lake Whakaki', 'Longlands Drain at Longlands', 'Lyndhurst at Lindisfarne', 'Maharakeke Stream at Limeworks Stn Rd', 'Mahiaruhe Stream at Tutira Outlet S.H.2', 'Makara Stream at Brooklands', 'Makara Stream at Dam No.1', 'Makaretu Stream at Watsons Reach', 'Makaroro River at Burnt Bridge', 'Makaroro River at Burnt Bridge RADAR', 'Mangakuri River at Nilsson Road', 'Mangamaire Stream at Cooks Tooth Rd', 'Mangaoho Stream at State Highway 50', 'Mangaone River at Rissington', 'Mangaonuku Stream at Argyll Rd', 'Mangaorapa Stream at Mangaorapa Road', 'Mangapoike River at Gorge', 'Mangarau Stream at Drop Structure', 'Mangatarata Stream at Farm Road', 'Mangateretere Stream at Napier Road', 'Mangatewai Stream at SH50 Kurinui', 'Maraekakaho Stream D/S Tait Rd', 'Maraekakaho Stream at Taits Road', 'Maraetotara River at Waimarama Road', 'Mohaka River at Glenfalls', 'Mohaka River at McVicars Bridge', 'Mohaka River at Poronui Station', 'Mohaka River at Raupunga', 'Mokau Stream at State Highway 38', 'Ngahape Stream at Arlington Road', 'Ngahere Stream at Ngahere Weir', 'Ngaruroro River at Chesterhope Bridge', 'Ngaruroro River at Fernhill', 'Ngaruroro River at Kuripapango', 'Ngaruroro River at Motorway Bridge', 'Ngaruroro River at Ohiti', 'Ngaruroro River at Whanawhana', 'Nuhaka River at Hineroa', 'Okawa Stream at Kawera Bridge', 'Ongaonga Trib at Morans', 'Ongaonga Trib at Pettit Valley Road', 'Oparae at Lake Tutira', 'Opoutama Wetland Outlet at Mahanga Rd', 'Otakowai Stream at Dam Site', 'Pakuratahi Stream at Forest Glade', 'Papanui Stream at Middle Road', 'Papanui Stream at Newmans Ford', 'Paritua Stream at Control Gate', 'Paritua Stream at Water Wheel', 'Paritua Stream at Weir 1', 'Paritua Stream at Weir 2', 'Pekapeka Swamp U/S Recorder Site', 'Pekapeka Swamp at Proposed Weir Site', 'Pekapeka Swamp at Railway Culvert', 'Pekapeka Swamp at Staff Gauge', 'Poporangi Stream at Ohara Stn.', 'Porangahau Beach oxipond', 'Porangahau River at Saleyards', 'Porangahau Stream at Oruawhara Road', 'Port of Napier', 'Poukawa Stream U/S of Control Gate', 'Poukawa Stream at Douglas Road', 'Poukawa Stream at Pekapeka Swamp S/G No1', 'Poukawa Stream at Pekapeka Swamp S/G No2', 'Poukawa Stream at Pekapeka Swamp S/G No3', 'Poukawa Stream at Pekapeka Swamp S/G No4', 'Poukawa Stream at Stock Road', 'Poukawa Stream at Te Mahanga Road', 'Puhokio Stream at Allens Bridge', 'Purimu Creek D/S Pump Station', 'Raupare Drain at Twyford Road', 'Raupare Stream at Ormond Road', 'Ruakituri River at Sports Ground', 'Ruakituri River at Tauwharetoi Climate', 'Sandy Creek at Papakiri', 'Sandy Creek at State Highway 2', 'Southland Drain at Norton Road', 'Taharua Stream at Henrys Bridge', 'Taharua Stream at Poronui Station', 'Taipo Stream at Church Road', 'Tamingimingi Stm at Top Ford', 'Taurekaitai Stream at Wallingford', 'Te Aute Main Drain at Mcbains', 'Te Kumi Stream at State Highway 38', 'Te Matau Stream at Charlotte Road', 'The Race at Glazebrooks-Recorder', 'Tukipo River at State Highway 50', 'Tukituki River at Ashcott Bridge S.H. 50', 'Tukituki River at Folgers', 'Tukituki River at Red Bridge', 'Tukituki River at Shagrock', 'Tukituki River at Tapairu Rd', 'Tukituki River at Waipukurau', 'Turirau at Puketapu', 'Turirau at Springfield', 'Tutaekuri River at Ngaroto', 'Tutaekuri River at Puketapu HBRC Site', 'Tutaekuri River at Puketapu OLD', 'Tutaekuri River at Redclyffe', 'Tutaekuri Waimate Stm at Chesterhope', 'Tutaekuri Waimate Stm at Goods Bridge', 'Tutaekuri Waimate Stm at SH50', 'Twyford Drain at Nicholl Rd Culvert', 'Upper Southland Drain at Wall Road', 'Waiatai Stream at Taits Bridge', 'Waiatai Stream at Waiatai Road', 'Waiau River at Ardkeen', 'Waiau River at Otoi', 'Waikaretaheke River at Terapatiki', 'Waikari River at Glenbrook Road', 'Waikatuku Strm off Harrison Rd', 'Waima at State Highway 50', 'Waimaunu Stream at Duncans', 'Waingongoro Stream at Waimarama Road', 'Waipatiki Stream at Waipatiki', 'Waipawa River at Fletchers Crossing', 'Waipawa River at Pendle Hill', 'Waipawa River at RDS/SH2', 'Waipawa River at Stewarts', 'Waipawa River at Waipawa SH2 (OLD)', 'Wairoa River at Marumaru', 'Wairoa River at Railway Br.', 'Wairoa River at Railway Br. RADAR', 'Wairoa River at Wairoa', 'Water Race at Kings Plantation Road No.1', 'Westshore Pond at Falcon House', 'Wharerangi Stream at Codds']\n"
     ]
    }
   ],
   "source": [
    "#site list || only available when minimalist is not invoked at initialisation\n",
    "sList = kHTop.siteList\n",
    "print(sList)"
   ]
  },
  {
   "cell_type": "code",
   "execution_count": 211,
   "metadata": {},
   "outputs": [
    {
     "name": "stdout",
     "output_type": "stream",
     "text": [
      "Ngaruroro River at Kuripapango\n",
      "Ngaruroro River at Kuripapango\n"
     ]
    }
   ],
   "source": [
    "#set site\n",
    "print(sList[179])\n",
    "kHTop.selectSite = sList[179]\n",
    "print(kHTop.selectSite)"
   ]
  },
  {
   "cell_type": "code",
   "execution_count": 212,
   "metadata": {},
   "outputs": [
    {
     "name": "stdout",
     "output_type": "stream",
     "text": [
      "['-39.38013465', '176.33269806']\n"
     ]
    }
   ],
   "source": [
    "#get to know the location of the measurement\n",
    "print(kHTop.selectSiteLocation)"
   ]
  },
  {
   "cell_type": "code",
   "execution_count": 213,
   "metadata": {},
   "outputs": [
    {
     "name": "stdout",
     "output_type": "stream",
     "text": [
      "2021-06-15 14:59:00+12:00\n"
     ]
    }
   ],
   "source": [
    "#get to know the last observation even before fetching data\n",
    "print(kHTop.selectSiteMeasurementEndTime)"
   ]
  },
  {
   "cell_type": "code",
   "execution_count": 214,
   "metadata": {},
   "outputs": [
    {
     "name": "stdout",
     "output_type": "stream",
     "text": [
      "            timestamp       Stage\n",
      "0 2018-07-05 12:15:00   800.00000\n",
      "1 2018-07-06 12:15:00   809.63542\n",
      "2 2018-07-07 12:15:00   796.67190\n",
      "3 2018-07-08 12:15:00   785.38542\n",
      "4 2018-07-09 12:15:00  1023.88542\n"
     ]
    }
   ],
   "source": [
    "print((kHTop.fetchData()).head())"
   ]
  },
  {
   "cell_type": "code",
   "execution_count": 215,
   "metadata": {},
   "outputs": [
    {
     "name": "stdout",
     "output_type": "stream",
     "text": [
      "            timestamp      Stage\n",
      "0 1952-08-13 15:15:00  4115.0000\n",
      "1 1952-08-14 15:15:00  4147.0512\n",
      "2 1952-08-15 15:15:00  4353.0340\n",
      "3 1952-08-16 15:15:00  4377.7804\n",
      "4 1952-08-17 15:15:00  4217.1092\n"
     ]
    }
   ],
   "source": [
    "#specifics of interest and a direct access method\n",
    "import datetime\n",
    "today = datetime.datetime.today()\n",
    "eDate = datetime.date(today.year,7,1)\n",
    "\n",
    "#check the data coming through\n",
    "print((kHTop.fetchData(site='Ngaruroro River at Fernhill',myEndDate=eDate)).head())"
   ]
  },
  {
   "cell_type": "markdown",
   "metadata": {},
   "source": [
    "#clear the cache only if required\n",
    "kHTop.clobberCache()"
   ]
  },
  {
   "cell_type": "code",
   "execution_count": 217,
   "metadata": {},
   "outputs": [
    {
     "name": "stdout",
     "output_type": "stream",
     "text": [
      "Gwavas Forest Met\n",
      "['-39.72995135', '176.44333901']\n",
      "2021-06-15 15:00:00+12:00\n",
      "            timestamp  Rainfall\n",
      "0 1947-12-02 09:00:00      11.2\n",
      "1 1947-12-03 09:00:00       0.5\n",
      "2 1947-12-04 09:00:00       0.0\n",
      "3 1947-12-05 09:00:00       0.0\n",
      "4 1947-12-06 09:00:00       1.8\n"
     ]
    }
   ],
   "source": [
    "#different site and measurement\n",
    "kHTop.selectMeasurement = mList[1]\n",
    "sList = kHTop.siteList\n",
    "print(sList[100])\n",
    "kHTop.selectSite = sList[100]\n",
    "print(kHTop.selectSiteLocation)\n",
    "print(kHTop.selectSiteMeasurementEndTime)\n",
    "print((kHTop.fetchData()).head())"
   ]
  },
  {
   "cell_type": "code",
   "execution_count": null,
   "metadata": {},
   "outputs": [],
   "source": []
  }
 ],
 "metadata": {
  "kernelspec": {
   "display_name": "Python 3",
   "language": "python",
   "name": "python3"
  },
  "language_info": {
   "codemirror_mode": {
    "name": "ipython",
    "version": 3
   },
   "file_extension": ".py",
   "mimetype": "text/x-python",
   "name": "python",
   "nbconvert_exporter": "python",
   "pygments_lexer": "ipython3",
   "version": "3.8.3"
  }
 },
 "nbformat": 4,
 "nbformat_minor": 4
}
